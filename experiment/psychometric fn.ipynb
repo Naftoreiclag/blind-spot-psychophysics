{
 "cells": [
  {
   "cell_type": "code",
   "execution_count": 1,
   "metadata": {},
   "outputs": [],
   "source": [
    "import numpy as np\n",
    "from scipy.optimize import curve_fit\n",
    "import matplotlib.pyplot as plt\n",
    "from collections import defaultdict \n",
    "from scipy.stats import norm\n",
    "\n",
    "%matplotlib inline"
   ]
  },
  {
   "cell_type": "code",
   "execution_count": 2,
   "metadata": {},
   "outputs": [],
   "source": [
    "responses = [False, None, False, True, None, True, False, False, False, False,\n",
    "       False, False, False, False, True, False, True, False, False, False,\n",
    "       True, False, False, False, True, False, True, True, True, False,\n",
    "       True, False, False, False, False, False, False]\n",
    "levels = [-3,  3, -3,  3, -3, -3,  3,  3,  0, -2, -3, -1,  0, -3,  2,  0,  2,\n",
    "        0, -1,  1,  3,  0, -3, -2,  1,  1,  0,  3, -2,  2,  2,  1,  3, -3,\n",
    "       -3, -2,  2]"
   ]
  },
  {
   "cell_type": "code",
   "execution_count": 3,
   "metadata": {},
   "outputs": [
    {
     "data": {
      "text/plain": [
       "defaultdict(list,\n",
       "            {-3: [0, 0, 1, 0, 0, 0, 0, 0],\n",
       "             -2: [0, 0, 1, 0],\n",
       "             -1: [0, 0],\n",
       "             0: [0, 0, 0, 0, 0, 1],\n",
       "             1: [0, 1, 0, 0],\n",
       "             2: [1, 1, 0, 1, 0],\n",
       "             3: [1, 0, 0, 1, 1, 0]})"
      ]
     },
     "execution_count": 3,
     "metadata": {},
     "output_type": "execute_result"
    }
   ],
   "source": [
    "n = len(responses)\n",
    "\n",
    "responses_by_level = defaultdict(list)\n",
    "\n",
    "for i in range(n):\n",
    "    if responses[i] == None:\n",
    "        continue\n",
    "    responses_by_level[levels[i]].append(int(responses[i]))\n",
    "\n",
    "responses_by_level"
   ]
  },
  {
   "cell_type": "code",
   "execution_count": 4,
   "metadata": {},
   "outputs": [
    {
     "data": {
      "text/plain": [
       "defaultdict(list,\n",
       "            {-3: 0.125,\n",
       "             -2: 0.25,\n",
       "             -1: 0.0,\n",
       "             0: 0.16666666666666666,\n",
       "             1: 0.25,\n",
       "             2: 0.6,\n",
       "             3: 0.5})"
      ]
     },
     "execution_count": 4,
     "metadata": {},
     "output_type": "execute_result"
    }
   ],
   "source": [
    "percentages = defaultdict(list)\n",
    "\n",
    "for level in responses_by_level:\n",
    "    resps = responses_by_level[level]\n",
    "    percentages[level] = np.sum(resps) / len(resps)\n",
    "    \n",
    "percentages"
   ]
  },
  {
   "cell_type": "code",
   "execution_count": 5,
   "metadata": {},
   "outputs": [
    {
     "data": {
      "text/plain": [
       "array([[-3.        ,  0.125     ],\n",
       "       [-2.        ,  0.25      ],\n",
       "       [-1.        ,  0.        ],\n",
       "       [ 0.        ,  0.16666667],\n",
       "       [ 1.        ,  0.25      ],\n",
       "       [ 2.        ,  0.6       ],\n",
       "       [ 3.        ,  0.5       ]])"
      ]
     },
     "execution_count": 5,
     "metadata": {},
     "output_type": "execute_result"
    }
   ],
   "source": [
    "# make sure everything is sorted\n",
    "all_values = list(zip(percentages.keys(), percentages.values()))\n",
    "all_values = np.array(sorted(all_values, key=lambda x: x[0]))\n",
    "all_values"
   ]
  },
  {
   "cell_type": "code",
   "execution_count": 6,
   "metadata": {},
   "outputs": [],
   "source": [
    "x = all_values[:,0]\n",
    "# p = all_values[:,1]\n",
    "p = [0, 0.1, 0.3, 0.55, 0.7, 0.9, 1]  # test: something that actually looks like a psychometric function"
   ]
  },
  {
   "cell_type": "code",
   "execution_count": 7,
   "metadata": {},
   "outputs": [
    {
     "data": {
      "text/plain": [
       "(-0.07087196912887732, 1.618199727443903)"
      ]
     },
     "execution_count": 7,
     "metadata": {},
     "output_type": "execute_result"
    }
   ],
   "source": [
    "(mu, sigma), cov = curve_fit(norm.cdf, x, p, [0,1]) # last argument is initialization\n",
    "mu, sigma"
   ]
  },
  {
   "cell_type": "code",
   "execution_count": 10,
   "metadata": {},
   "outputs": [
    {
     "data": {
      "text/plain": [
       "[<matplotlib.lines.Line2D at 0x12366ad30>]"
      ]
     },
     "execution_count": 10,
     "metadata": {},
     "output_type": "execute_result"
    },
    {
     "data": {
      "image/png": "[encoded data removed]",
      "text/plain": [
       "<Figure size 432x288 with 1 Axes>"
      ]
     },
     "metadata": {
      "needs_background": "light"
     },
     "output_type": "display_data"
    }
   ],
   "source": [
    "plt.scatter(x, p, c='r')\n",
    "plt.plot(x, norm.cdf(x, mu, sigma))"
   ]
  },
  {
   "cell_type": "code",
   "execution_count": null,
   "metadata": {},
   "outputs": [],
   "source": []
  }
 ],
 "metadata": {
  "anaconda-cloud": {},
  "kernelspec": {
   "display_name": "Python [Root]",
   "language": "python",
   "name": "Python [Root]"
  },
  "language_info": {
   "codemirror_mode": {
    "name": "ipython",
    "version": 3
   },
   "file_extension": ".py",
   "mimetype": "text/x-python",
   "name": "python",
   "nbconvert_exporter": "python",
   "pygments_lexer": "ipython3",
   "version": "3.5.2"
  }
 },
 "nbformat": 4,
 "nbformat_minor": 2
}
